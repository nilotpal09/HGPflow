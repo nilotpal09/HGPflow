{
 "cells": [
  {
   "cell_type": "code",
   "execution_count": 1,
   "metadata": {},
   "outputs": [],
   "source": [
    "%load_ext autoreload\n",
    "%autoreload 2"
   ]
  },
  {
   "cell_type": "code",
   "execution_count": 2,
   "metadata": {},
   "outputs": [],
   "source": [
    "import uproot\n",
    "import matplotlib.pyplot as plt\n",
    "import numpy as np\n",
    "from matplotlib.gridspec import GridSpecFromSubplotSpec, GridSpec\n",
    "import tqdm"
   ]
  },
  {
   "attachments": {},
   "cell_type": "markdown",
   "metadata": {},
   "source": [
    "## Load data"
   ]
  },
  {
   "cell_type": "code",
   "execution_count": 3,
   "metadata": {},
   "outputs": [
    {
     "data": {
      "text/plain": [
       "['topo_eta',\n",
       " 'topo_phi',\n",
       " 'topo_e',\n",
       " 'topo_rho',\n",
       " 'topo_sigma_eta',\n",
       " 'topo_sigma_phi',\n",
       " 'topo_ms_cluster_idx',\n",
       " 'topo_particle_idxs',\n",
       " 'topo_particle_energies',\n",
       " 'topo_ecal_e',\n",
       " 'topo_hcal_e',\n",
       " 'topo2particle_topo_idx',\n",
       " 'topo2particle_particle_idx',\n",
       " 'topo2particle_energy',\n",
       " 'cell_eta',\n",
       " 'cell_phi',\n",
       " 'cell_e',\n",
       " 'cell_calo_region',\n",
       " 'cell_topo_idx',\n",
       " 'cell_x',\n",
       " 'cell_y',\n",
       " 'cell_z',\n",
       " 'track_eta',\n",
       " 'track_phi',\n",
       " 'track_pt',\n",
       " 'track_ms_cluster_idx',\n",
       " 'track_particle_idx',\n",
       " 'track_z0',\n",
       " 'track_d0',\n",
       " 'track_x_layer_0',\n",
       " 'track_x_layer_1',\n",
       " 'track_x_layer_2',\n",
       " 'track_x_layer_3',\n",
       " 'track_x_layer_4',\n",
       " 'track_x_layer_5',\n",
       " 'track_y_layer_0',\n",
       " 'track_y_layer_1',\n",
       " 'track_y_layer_2',\n",
       " 'track_y_layer_3',\n",
       " 'track_y_layer_4',\n",
       " 'track_y_layer_5',\n",
       " 'track_z_layer_0',\n",
       " 'track_z_layer_1',\n",
       " 'track_z_layer_2',\n",
       " 'track_z_layer_3',\n",
       " 'track_z_layer_4',\n",
       " 'track_z_layer_5',\n",
       " 'track_eta_layer_0',\n",
       " 'track_eta_layer_1',\n",
       " 'track_eta_layer_2',\n",
       " 'track_eta_layer_3',\n",
       " 'track_eta_layer_4',\n",
       " 'track_eta_layer_5',\n",
       " 'track_phi_layer_0',\n",
       " 'track_phi_layer_1',\n",
       " 'track_phi_layer_2',\n",
       " 'track_phi_layer_3',\n",
       " 'track_phi_layer_4',\n",
       " 'track_phi_layer_5',\n",
       " 'track_eta_int',\n",
       " 'track_phi_int',\n",
       " 'particle_pt',\n",
       " 'particle_eta',\n",
       " 'particle_phi',\n",
       " 'particle_e',\n",
       " 'particle_pdgid',\n",
       " 'particle_old_idx',\n",
       " 'particle_ms_cluster_idx',\n",
       " 'cell_to_cell_src',\n",
       " 'cell_to_cell_dst',\n",
       " 'track_to_cell_src',\n",
       " 'track_to_cell_dst',\n",
       " 'eventNumber']"
      ]
     },
     "execution_count": 3,
     "metadata": {},
     "output_type": "execute_result"
    }
   ],
   "source": [
    "file_path = 'path to cocoa dijet_seg_bw0.4.root'\n",
    "\n",
    "f = uproot.open(file_path)\n",
    "tree = f['EventTree']\n",
    "keys = tree.keys()\n",
    "keys"
   ]
  },
  {
   "cell_type": "code",
   "execution_count": 4,
   "metadata": {},
   "outputs": [
    {
     "name": "stdout",
     "output_type": "stream",
     "text": [
      "n_events = 965881\n"
     ]
    }
   ],
   "source": [
    "n_events = tree.num_entries\n",
    "print('n_events = {}'.format(n_events))\n",
    "\n",
    "entry_start = 0; entry_stop = n_events"
   ]
  },
  {
   "cell_type": "markdown",
   "metadata": {},
   "source": [
    "# Cardinality"
   ]
  },
  {
   "cell_type": "code",
   "execution_count": 7,
   "metadata": {},
   "outputs": [
    {
     "name": "stderr",
     "output_type": "stream",
     "text": [
      "100%|██████████| 35799/35799 [00:42<00:00, 839.92it/s]\n"
     ]
    }
   ],
   "source": [
    "### Loop over unique events in tree. Count the number of MS clusters, tracks, topoclusters, and particles per event.\n",
    "\n",
    "cardinality_dict = {\n",
    "    'n_tracks': [],\n",
    "    'n_topoclusters': [],\n",
    "    'n_particles': [],\n",
    "    'n_ms_clusters': []\n",
    "}\n",
    "\n",
    "# relevant branches\n",
    "track_eta = tree['track_eta'].array(library='np')\n",
    "particle_pdgid = tree['particle_pdgid'].array(library='np')\n",
    "topo_eta = tree['topo_eta'].array(library='np')\n",
    "\n",
    "# get unique event numbers first\n",
    "event_idx = tree['eventNumber'].array(library='np')\n",
    "unique_events = np.unique(event_idx)\n",
    "\n",
    "merge_ms_clusters = True\n",
    "\n",
    "if merge_ms_clusters:\n",
    "    for ev in tqdm.tqdm(unique_events):\n",
    "        mask_ev = (event_idx == ev)\n",
    "        track_eta_ev = np.hstack(track_eta[mask_ev])\n",
    "        particle_pdgid_ev = np.hstack(particle_pdgid[mask_ev])\n",
    "        particle_pdgid_ev = particle_pdgid_ev[np.abs(particle_pdgid_ev) != -999]\n",
    "        topo_eta_ev = np.hstack(topo_eta[mask_ev])\n",
    "\n",
    "        cardinality_dict['n_tracks'].append(len(track_eta_ev))\n",
    "        cardinality_dict['n_particles'].append(len(particle_pdgid_ev))\n",
    "        cardinality_dict['n_topoclusters'].append(len(topo_eta_ev))\n",
    "        cardinality_dict['n_ms_clusters'].append(mask_ev.sum())\n",
    "\n",
    "else:\n",
    "    for ev in tqdm.tqdm(range(len(event_idx))):\n",
    "        track_eta_ev = track_eta[ev]\n",
    "        particle_pdgid_ev = particle_pdgid[ev]\n",
    "        particle_pdgid_ev = particle_pdgid_ev[np.abs(particle_pdgid_ev) != -999]\n",
    "        topo_eta_ev = topo_eta[ev]\n",
    "        \n",
    "        cardinality_dict['n_tracks'].append(len(track_eta_ev))\n",
    "        cardinality_dict['n_particles'].append(len(particle_pdgid_ev))\n",
    "        cardinality_dict['n_topoclusters'].append(len(topo_eta_ev))\n",
    "        cardinality_dict['n_ms_clusters'].append(1)\n"
   ]
  },
  {
   "cell_type": "code",
   "execution_count": 135,
   "metadata": {},
   "outputs": [
    {
     "data": {
      "image/png": "[encoded data removed]",
      "text/plain": [
       "<Figure size 450x450 with 1 Axes>"
      ]
     },
     "metadata": {},
     "output_type": "display_data"
    }
   ],
   "source": [
    "fig = plt.figure(figsize=(3, 3), dpi=150)\n",
    "gs = GridSpec(1, 1, figure=fig, hspace=0.3, wspace=0.3)\n",
    "\n",
    "N_max = 250\n",
    "bin_width = 4\n",
    "bins = np.linspace(-0.5, N_max + 0.5, (N_max + 2)) * bin_width\n",
    "bins = bins[bins<=N_max+bin_width]\n",
    "\n",
    "colors = plt.cm.viridis(np.linspace(0, 1, 6)) #[::-1]\n",
    "opacity = 0.75\n",
    "do_log = False\n",
    "\n",
    "def get_legend_stats(arr):\n",
    "    return f'med.={np.median(arr):.0f}, max={np.max(arr):.0f}'\n",
    "    # return f'med.={np.median(arr):.0f}, IQR={np.percentile(arr, 75) - np.percentile(arr, 25):.0f}, max={np.max(arr):.0f}'\n",
    "\n",
    "plt.hist(cardinality_dict['n_topoclusters'], bins=bins, alpha=opacity, label='topoclusters \\n' + get_legend_stats(cardinality_dict[\"n_topoclusters\"]), histtype='stepfilled', edgecolor='black', color=colors[5])\n",
    "plt.hist(cardinality_dict['n_particles'], bins=bins, alpha=opacity,    label='particles    \\n' + get_legend_stats(cardinality_dict[\"n_particles\"]), histtype='stepfilled', edgecolor='black', color=colors[4])\n",
    "plt.hist(cardinality_dict['n_tracks'], bins=bins, alpha=opacity,       label='tracks       \\n' + get_legend_stats(cardinality_dict[\"n_tracks\"]), histtype='stepfilled', edgecolor='black', color=colors[3])\n",
    "plt.hist(cardinality_dict['n_ms_clusters'], bins=bins, alpha=opacity,  label='MS clusters  \\n' + get_legend_stats(cardinality_dict[\"n_ms_clusters\"]), histtype='stepfilled', edgecolor='black', color=colors[0])\n",
    "\n",
    "plt.xlabel('Cardinality')\n",
    "plt.ylabel('Events')\n",
    "plt.xlim(0, N_max)\n",
    "if do_log:\n",
    "    plt.ylim(0.5, 1e4)\n",
    "    plt.yscale('log')\n",
    "else:\n",
    "    plt.ylim(0, 6000)\n",
    "\n",
    "# legend with entries in reverse order\n",
    "handles, labels = plt.gca().get_legend_handles_labels()\n",
    "plt.legend(handles[::-1], labels[::-1], loc='upper right', fontsize=8, labelspacing=0.8)\n",
    "\n",
    "plt.show()"
   ]
  },
  {
   "cell_type": "code",
   "execution_count": 136,
   "metadata": {},
   "outputs": [],
   "source": [
    "fig.savefig('cardinality_distributions.png', dpi=300, bbox_inches='tight')"
   ]
  },
  {
   "cell_type": "code",
   "execution_count": null,
   "metadata": {},
   "outputs": [],
   "source": []
  }
 ],
 "metadata": {
  "kernelspec": {
   "display_name": "sup_res",
   "language": "python",
   "name": "python3"
  },
  "language_info": {
   "codemirror_mode": {
    "name": "ipython",
    "version": 3
   },
   "file_extension": ".py",
   "mimetype": "text/x-python",
   "name": "python",
   "nbconvert_exporter": "python",
   "pygments_lexer": "ipython3",
   "version": "3.11.9"
  },
  "orig_nbformat": 4,
  "vscode": {
   "interpreter": {
    "hash": "0a441a5a7170b5767766154d7d0e4bd45d8ba5723808a34a685676bcdbed3c3d"
   }
  }
 },
 "nbformat": 4,
 "nbformat_minor": 2
}
