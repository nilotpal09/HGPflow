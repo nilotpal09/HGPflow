{
 "cells": [
  {
   "cell_type": "code",
   "execution_count": 19,
   "metadata": {},
   "outputs": [],
   "source": [
    "import uproot\n",
    "import numpy as np\n",
    "from tqdm.notebook import tqdm\n",
    "import matplotlib.pyplot as plt"
   ]
  },
  {
   "cell_type": "code",
   "execution_count": 6,
   "metadata": {},
   "outputs": [],
   "source": [
    "fp_cocoa = 'path to train_skim_seg_bw0.4.root'\n",
    "fp_clic  = 'path to train_p8_ee_qq_ecm380_150k_100MevCut_inclSingleNode_bw0.3.root'\n",
    "\n",
    "tree_cocoa = uproot.open(fp_cocoa)['EventTree']\n",
    "tree_clic  = uproot.open(fp_clic)['EventTree']\n",
    "\n",
    "data_cocoa = {\n",
    "    'topo2particle_topo_idx'    : tree_cocoa['topo2particle_topo_idx'].array(library='np'),\n",
    "    'topo2particle_particle_idx': tree_cocoa['topo2particle_particle_idx'].array(library='np'),\n",
    "    'topo2particle_energy'      : tree_cocoa['topo2particle_energy'].array(library='np'),\n",
    "    'particle_pt'               : tree_cocoa['particle_pt'].array(library='np'),\n",
    "    'track_particle_idx'        : tree_cocoa['track_particle_idx'].array(library='np'),\n",
    "    'topo_eta'                  : tree_cocoa['topo_eta'].array(library='np'),\n",
    "}\n",
    "\n",
    "data_clic = {\n",
    "    'topo2particle_topo_idx'    : tree_clic['topo2particle_topo_idx'].array(library='np'),\n",
    "    'topo2particle_particle_idx': tree_clic['topo2particle_particle_idx'].array(library='np'),\n",
    "    'topo2particle_energy'      : tree_clic['topo2particle_energy'].array(library='np'),\n",
    "    'particle_pt'               : tree_clic['particle_pt'].array(library='np'),\n",
    "    'track_particle_idx'        : tree_clic['track_particle_idx'].array(library='np'),\n",
    "    'topo_eta'                  : tree_clic['topo_eta'].array(library='np'),\n",
    "}"
   ]
  },
  {
   "cell_type": "code",
   "execution_count": 7,
   "metadata": {},
   "outputs": [],
   "source": [
    "data_cocoa['n_tracks'] = np.array([len(t) for t in data_cocoa['track_particle_idx']])\n",
    "data_cocoa['n_topos'] = np.array([len(t) for t in data_cocoa['topo_eta']])\n",
    "data_cocoa['n_nodes'] = np.array([x + y for x, y in zip(data_cocoa['n_tracks'], data_cocoa['n_topos'])])\n",
    "data_cocoa['n_particles'] = np.array([len(p) for p in data_cocoa['particle_pt']])\n",
    "\n",
    "data_clic['n_tracks'] = np.array([len(t) for t in data_clic['track_particle_idx']])\n",
    "data_clic['n_topos'] = np.array([len(t) for t in data_clic['topo_eta']])\n",
    "data_clic['n_nodes'] = np.array([x + y for x, y in zip(data_clic['n_tracks'], data_clic['n_topos'])])\n",
    "data_clic['n_particles'] = np.array([len(p) for p in data_clic['particle_pt']])"
   ]
  },
  {
   "cell_type": "markdown",
   "metadata": {},
   "source": [
    "### Incidence computation\n",
    "\n",
    "- Ignore the tracks completely"
   ]
  },
  {
   "cell_type": "code",
   "execution_count": 14,
   "metadata": {},
   "outputs": [],
   "source": [
    "def get_incidence_matrix(data_dict, idx):\n",
    "    max_particles = 60\n",
    "\n",
    "    # incidence_matrix = np.zeros((max_particles, data_dict['n_nodes'][idx]))\n",
    "    incidence_matrix = np.zeros((max_particles, data_dict['n_topos'][idx]))\n",
    "\n",
    "    # # add tracks\n",
    "    # part_idxs = data_dict['track_particle_idx'][idx]\n",
    "    # track_idxs = np.arange(data_dict['n_tracks'][idx])\n",
    "    # incidence_matrix[part_idxs, track_idxs] = 1.0\n",
    "\n",
    "    # add topos\n",
    "    topo_idxs = data_dict['topo2particle_topo_idx'][idx]\n",
    "    part_idxs = data_dict['topo2particle_particle_idx'][idx]\n",
    "    part_es = data_dict['topo2particle_energy'][idx]\n",
    "    # incidence_matrix[part_idxs, topo_idxs + data_dict['n_tracks'][idx]] = part_es\n",
    "    incidence_matrix[part_idxs, topo_idxs] = part_es\n",
    "\n",
    "    # check for TC w/o associated particles\n",
    "    if (incidence_matrix.sum(axis=0) == 0).any():\n",
    "        noisy_cols = np.where(incidence_matrix.sum(axis=0) == 0)[0]\n",
    "        fake_rows  = np.arange(len(noisy_cols)) + data_dict['n_particles'][idx]\n",
    "\n",
    "        # check for indices greater than config_v['max_particles']\n",
    "        if not (fake_rows < max_particles).all():\n",
    "            print(f'Warning: fake_rows go beyond maximum ({max_particles}) particles in event {idx}. Dropping them!')\n",
    "            noisy_cols = noisy_cols[fake_rows < max_particles]\n",
    "            fake_rows = fake_rows[fake_rows < max_particles]\n",
    "        incidence_matrix[fake_rows, noisy_cols] = 1.0\n",
    "\n",
    "    # normalize\n",
    "    incidence_matrix = incidence_matrix / np.clip(incidence_matrix.sum(axis=0, keepdims=True), a_min=1e-6, a_max=None)\n",
    "\n",
    "    return incidence_matrix"
   ]
  },
  {
   "cell_type": "code",
   "execution_count": 15,
   "metadata": {},
   "outputs": [
    {
     "data": {
      "application/vnd.jupyter.widget-view+json": {
       "model_id": "2484281e51334813a42fac2099cacf38",
       "version_major": 2,
       "version_minor": 0
      },
      "text/plain": [
       "  0%|          | 0/1624349 [00:00<?, ?it/s]"
      ]
     },
     "metadata": {},
     "output_type": "display_data"
    }
   ],
   "source": [
    "data_cocoa['incidence_matrix'] = []\n",
    "for i in tqdm(range(len(data_cocoa['n_nodes']))):\n",
    "    if data_cocoa['n_nodes'][i] < 2 or data_cocoa['n_particles'][i] > 60:\n",
    "        continue\n",
    "    data_cocoa['incidence_matrix'].append(get_incidence_matrix(data_cocoa, i))"
   ]
  },
  {
   "cell_type": "code",
   "execution_count": 16,
   "metadata": {},
   "outputs": [
    {
     "data": {
      "application/vnd.jupyter.widget-view+json": {
       "model_id": "4917292c698343d1b8d26a0db3d066d2",
       "version_major": 2,
       "version_minor": 0
      },
      "text/plain": [
       "  0%|          | 0/3454324 [00:00<?, ?it/s]"
      ]
     },
     "metadata": {},
     "output_type": "display_data"
    }
   ],
   "source": [
    "data_clic['incidence_matrix'] = []\n",
    "for i in tqdm(range(len(data_clic['n_nodes']))):\n",
    "    if data_clic['n_nodes'][i] < 2 or data_clic['n_particles'][i] > 60:\n",
    "        continue\n",
    "    data_clic['incidence_matrix'].append(get_incidence_matrix(data_clic, i))"
   ]
  },
  {
   "cell_type": "markdown",
   "metadata": {},
   "source": [
    "### Plotting"
   ]
  },
  {
   "cell_type": "code",
   "execution_count": 21,
   "metadata": {},
   "outputs": [],
   "source": [
    "bins = np.linspace(0.01, 1, 25)\n",
    "\n",
    "inc_hist_cocoa = np.histogram(np.hstack(data_cocoa['incidence_matrix']), bins=bins, density=True)[0]\n",
    "inc_hist_clic = np.histogram(np.hstack(data_clic['incidence_matrix']), bins=bins, density=True)[0]"
   ]
  },
  {
   "cell_type": "code",
   "execution_count": 25,
   "metadata": {},
   "outputs": [
    {
     "data": {
      "image/png": "[encoded data removed]",
      "text/plain": [
       "<Figure size 600x450 with 1 Axes>"
      ]
     },
     "metadata": {},
     "output_type": "display_data"
    }
   ],
   "source": [
    "fig = plt.figure(figsize=(4, 3), dpi=150)\n",
    "gs = fig.add_gridspec(1, 1)\n",
    "\n",
    "bin_mids = (bins[1:] + bins[:-1]) / 2\n",
    "\n",
    "ax = fig.add_subplot(gs[0, 0])\n",
    "ax.bar(bin_mids, inc_hist_cocoa, width=np.diff(bins), alpha=0.5, label='COCOA', zorder=5)\n",
    "ax.bar(bin_mids, inc_hist_clic, width=np.diff(bins), alpha=0.5, label='CLIC', zorder=5)\n",
    "ax.legend()\n",
    "ax.grid(True)"
   ]
  },
  {
   "cell_type": "code",
   "execution_count": null,
   "metadata": {},
   "outputs": [],
   "source": []
  }
 ],
 "metadata": {
  "kernelspec": {
   "display_name": "Python 3",
   "language": "python",
   "name": "python3"
  },
  "language_info": {
   "codemirror_mode": {
    "name": "ipython",
    "version": 3
   },
   "file_extension": ".py",
   "mimetype": "text/x-python",
   "name": "python",
   "nbconvert_exporter": "python",
   "pygments_lexer": "ipython3",
   "version": "3.11.9"
  }
 },
 "nbformat": 4,
 "nbformat_minor": 2
}
