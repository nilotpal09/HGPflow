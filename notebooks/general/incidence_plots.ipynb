{
 "cells": [
  {
   "cell_type": "code",
   "execution_count": 1,
   "metadata": {},
   "outputs": [],
   "source": [
    "import uproot\n",
    "import matplotlib.pyplot as plt\n",
    "from matplotlib.ticker import FixedLocator\n",
    "import numpy as np\n",
    "from matplotlib.gridspec import GridSpecFromSubplotSpec, GridSpec\n",
    "from tqdm.notebook import tqdm\n",
    "\n",
    "import yaml\n",
    "import sys\n",
    "sys.path.append('../')\n",
    "from hgpflow_v2.utility.helper_dicts import pdgid_class_dict"
   ]
  },
  {
   "attachments": {},
   "cell_type": "markdown",
   "metadata": {},
   "source": [
    "## Load data"
   ]
  },
  {
   "cell_type": "code",
   "execution_count": 2,
   "metadata": {},
   "outputs": [],
   "source": [
    "file_path = 'path to seg file.root'\n",
    "\n",
    "f = uproot.open(file_path)\n",
    "tree = f['EventTree']"
   ]
  },
  {
   "cell_type": "code",
   "execution_count": 3,
   "metadata": {},
   "outputs": [],
   "source": [
    "particle_pt    = tree['particle_pt'].array(library='np')\n",
    "particle_eta   = tree['particle_eta'].array(library='np')\n",
    "particle_phi   = tree['particle_phi'].array(library='np')\n",
    "particle_e     = tree['particle_e'].array(library='np')\n",
    "particle_pdgid = tree['particle_pdgid'].array(library='np')"
   ]
  },
  {
   "cell_type": "code",
   "execution_count": 4,
   "metadata": {},
   "outputs": [],
   "source": [
    "topo_eta = tree['topo_eta'].array(library='np')\n",
    "topo_phi = tree['topo_phi'].array(library='np')\n",
    "topo_e   = tree['topo_e'].array(library='np')"
   ]
  },
  {
   "cell_type": "code",
   "execution_count": 5,
   "metadata": {},
   "outputs": [],
   "source": [
    "topo2particle_topo_idxs     = tree['topo2particle_topo_idx'].array(library='np')\n",
    "topo2particle_particle_idxs = tree['topo2particle_particle_idx'].array(library='np')\n",
    "topo2particle_energies      = tree['topo2particle_energy'].array(library='np')"
   ]
  },
  {
   "cell_type": "code",
   "execution_count": 6,
   "metadata": {},
   "outputs": [
    {
     "data": {
      "application/vnd.jupyter.widget-view+json": {
       "model_id": "961a1a2f8f814c728c21ca6d118bf5b8",
       "version_major": 2,
       "version_minor": 0
      },
      "text/plain": [
       "  0%|          | 0/35799 [00:00<?, ?it/s]"
      ]
     },
     "metadata": {},
     "output_type": "display_data"
    }
   ],
   "source": [
    "### get the deposited energy per particle and per topo\n",
    "topo_dep_energy = []\n",
    "particle_dep_energy = []\n",
    "\n",
    "for ev, (topo2particle_topo_idx, topo2particle_particle_idx, topo2particle_energy) in tqdm(enumerate(zip(topo2particle_topo_idxs, topo2particle_particle_idxs, topo2particle_energies)), total=len(topo2particle_topo_idxs)):\n",
    "    topo_dep_energy_ev = np.zeros_like(topo_e[ev])\n",
    "    particle_dep_energy_ev = np.zeros_like(particle_e[ev])\n",
    "\n",
    "    for hit_idx, (topo_idx, particle_idx, energy) in enumerate(zip(topo2particle_topo_idx, topo2particle_particle_idx, topo2particle_energy)):\n",
    "        topo_dep_energy_ev[topo_idx] += energy\n",
    "        particle_dep_energy_ev[particle_idx] += energy\n",
    "\n",
    "    topo_dep_energy.append(topo_dep_energy_ev)\n",
    "    particle_dep_energy.append(particle_dep_energy_ev)\n",
    "\n",
    "topo_dep_energy = np.array(topo_dep_energy, dtype=object)\n",
    "particle_dep_energy = np.array(particle_dep_energy, dtype=object)"
   ]
  },
  {
   "cell_type": "code",
   "execution_count": 7,
   "metadata": {},
   "outputs": [],
   "source": [
    "### make some useful arrays in the same shape as \"topo2particle\" arrays\n",
    "topo2particle_topo_energies = np.array([topo_e[ev][topo_idx] for ev, topo_idx in enumerate(topo2particle_topo_idxs)], dtype=object)\n",
    "topo2particle_particle_energies = np.array([particle_e[ev][particle_idx] for ev, particle_idx in enumerate(topo2particle_particle_idxs)], dtype=object)\n",
    "topo2particle_particle_pts = np.array([particle_pt[ev][particle_idx] for ev, particle_idx in enumerate(topo2particle_particle_idxs)], dtype=object)\n",
    "topo2particle_particle_pdgids = np.array([particle_pdgid[ev][particle_idx] for ev, particle_idx in enumerate(topo2particle_particle_idxs)], dtype=object)\n",
    "topo2particle_topo_dep_energies = np.array([topo_dep_energy[ev][topo_idx] for ev, topo_idx in enumerate(topo2particle_topo_idxs)], dtype=object)\n",
    "topo2particle_particle_dep_energies = np.array([particle_dep_energy[ev][particle_idx] for ev, particle_idx in enumerate(topo2particle_particle_idxs)], dtype=object)\n",
    "topo2particle_energies_over_topo_dep_energy = np.array([hit_energy/topo_dep_energy for hit_energy, topo_dep_energy in zip(topo2particle_energies, topo2particle_topo_dep_energies)], dtype=object)\n",
    "topo2particle_energies_over_particle_dep_energy = np.array([hit_energy/particle_dep_energy for hit_energy, particle_dep_energy in zip(topo2particle_energies, topo2particle_particle_dep_energies)], dtype=object)"
   ]
  },
  {
   "cell_type": "code",
   "execution_count": 8,
   "metadata": {},
   "outputs": [
    {
     "data": {
      "application/vnd.jupyter.widget-view+json": {
       "model_id": "2715de6113ac4778accfdc8c8d025304",
       "version_major": 2,
       "version_minor": 0
      },
      "text/plain": [
       "  0%|          | 0/35799 [00:00<?, ?it/s]"
      ]
     },
     "metadata": {},
     "output_type": "display_data"
    }
   ],
   "source": [
    "### find out whether a given hit is the leading one for its topo or for its particle\n",
    "topo2particle_hit_is_leading_for_topo = []\n",
    "topo2particle_hit_is_leading_for_particle = []\n",
    "\n",
    "for ev, (topo2particle_topo_idx, topo2particle_particle_idx, topo2particle_energy) in tqdm(enumerate(zip(topo2particle_topo_idxs, topo2particle_particle_idxs, topo2particle_energies)), total=len(topo2particle_topo_idxs)):\n",
    "    topo2particle_hit_is_leading_for_topo_ev = np.zeros_like(topo2particle_topo_idx)\n",
    "    topo2particle_hit_is_leading_for_particle_ev = np.zeros_like(topo2particle_particle_idx)\n",
    "\n",
    "    for unique_topo_idx in np.unique(topo2particle_topo_idx):\n",
    "        this_topo_mask = topo2particle_topo_idx == unique_topo_idx\n",
    "        masked_energies = topo2particle_energy[this_topo_mask]\n",
    "        the_max = masked_energies.max()\n",
    "        the_sum = masked_energies.sum()\n",
    "        topo2particle_hit_is_leading_for_topo_ev[this_topo_mask] = masked_energies == the_max\n",
    "\n",
    "    for unique_particle_idx in np.unique(topo2particle_particle_idx):\n",
    "        this_particle_mask = topo2particle_particle_idx == unique_particle_idx\n",
    "        masked_energies = topo2particle_energy[this_particle_mask]\n",
    "        the_max = masked_energies.max()\n",
    "        the_sum = masked_energies.sum()\n",
    "        topo2particle_hit_is_leading_for_particle_ev[this_particle_mask] = masked_energies == the_max\n",
    "\n",
    "    topo2particle_hit_is_leading_for_topo.append(topo2particle_hit_is_leading_for_topo_ev.astype(bool))\n",
    "    topo2particle_hit_is_leading_for_particle.append(topo2particle_hit_is_leading_for_particle_ev.astype(bool))\n",
    "\n",
    "topo2particle_hit_is_leading_topo = np.array(topo2particle_hit_is_leading_for_topo, dtype=object)\n",
    "topo2particle_hit_is_leading_particle = np.array(topo2particle_hit_is_leading_for_particle, dtype=object)"
   ]
  },
  {
   "cell_type": "code",
   "execution_count": 9,
   "metadata": {},
   "outputs": [
    {
     "data": {
      "application/vnd.jupyter.widget-view+json": {
       "model_id": "337a73fdb3e0424a93f19403153ec8a2",
       "version_major": 2,
       "version_minor": 0
      },
      "text/plain": [
       "  0%|          | 0/35799 [00:00<?, ?it/s]"
      ]
     },
     "metadata": {},
     "output_type": "display_data"
    }
   ],
   "source": [
    "### associate an array of hits with each particle and each topo which are the fractions of the hit energy over the total deposited energy\n",
    "topo_fractional_hits = []\n",
    "particle_fractional_hits = []\n",
    "\n",
    "for ev, (topo2particle_topo_idx, topo2particle_particle_idx, topo2particle_energy) in tqdm(enumerate(zip(topo2particle_topo_idxs, topo2particle_particle_idxs, topo2particle_energies)), total=len(topo2particle_topo_idxs)):\n",
    "\n",
    "    topo_fractional_hits_ev = []\n",
    "    particle_fractional_hits_ev = []\n",
    "\n",
    "    for topo_idx in range(len(topo_e[ev])):\n",
    "        topo_mask = topo2particle_topo_idx == topo_idx\n",
    "        hit_energies = topo2particle_energy[topo_mask]\n",
    "        topo_fractional_hits_ev.append(hit_energies/topo_dep_energy[ev][topo_idx])\n",
    "\n",
    "    for particle_idx in range(len(particle_e[ev])):\n",
    "        particle_mask = topo2particle_particle_idx == particle_idx\n",
    "        hit_energies = topo2particle_energy[particle_mask]\n",
    "        particle_fractional_hits_ev.append(hit_energies/particle_dep_energy[ev][particle_idx])\n",
    "\n",
    "    topo_fractional_hits.append(np.array(topo_fractional_hits_ev, dtype=object))\n",
    "    particle_fractional_hits.append(np.array(particle_fractional_hits_ev, dtype=object))\n",
    "\n",
    "topo_fractional_hits = np.array(topo_fractional_hits, dtype=object)\n",
    "particle_fractional_hits = np.array(particle_fractional_hits, dtype=object)"
   ]
  },
  {
   "cell_type": "markdown",
   "metadata": {},
   "source": [
    "# 2D plot"
   ]
  },
  {
   "cell_type": "code",
   "execution_count": 10,
   "metadata": {},
   "outputs": [],
   "source": [
    "x = np.hstack(topo2particle_energies_over_particle_dep_energy)\n",
    "y = np.hstack(topo2particle_energies_over_topo_dep_energy)\n",
    "\n",
    "mask = np.ones_like(x, dtype=bool)\n",
    "\n",
    "### hit must be at least 20% of the energy of the particle\n",
    "# mask = mask & ((np.hstack(topo2particle_energies) / np.hstack(topo2particle_particle_energies)) > 0.2)\n",
    "\n",
    "### hit must be at least 20% of the energy of the topo\n",
    "# mask = mask & (np.hstack(topo2particle_energies) / np.hstack(topo2particle_topo_energies) > 0.2)\n",
    "\n",
    "### hit must be the leading hit for the particle\n",
    "# mask = mask & np.hstack(topo2particle_hit_is_leading_for_particle)\n",
    "\n",
    "### hit must not be from electromagnetic activity\n",
    "mask = mask & (np.hstack(topo2particle_particle_pdgids) != 22) & (np.abs(np.hstack(topo2particle_particle_pdgids)) != 11)\n",
    "\n",
    "### hit must have minimum amount of energy\n",
    "mask = mask & (np.hstack(topo2particle_energies) > 0.1)\n",
    "\n",
    "x = x[mask]\n",
    "y = y[mask]\n",
    "w = np.ones_like(np.hstack(topo2particle_energies)[mask])"
   ]
  },
  {
   "cell_type": "code",
   "execution_count": 114,
   "metadata": {},
   "outputs": [
    {
     "data": {
      "image/png": "[encoded data removed]",
      "text/plain": [
       "<Figure size 450x450 with 3 Axes>"
      ]
     },
     "metadata": {},
     "output_type": "display_data"
    }
   ],
   "source": [
    "from matplotlib import gridspec\n",
    "from matplotlib.colors import LogNorm\n",
    "\n",
    "do_log = True\n",
    "\n",
    "# Create figure and GridSpec layout\n",
    "fig = plt.figure(figsize=(3, 3), dpi=150)\n",
    "gs = gridspec.GridSpec(4, 4)\n",
    "\n",
    "x_bins = np.linspace(0., 1., 11)\n",
    "y_bins = np.linspace(0., 1., 11)\n",
    "marginal_line_color = plt.cm.viridis(np.linspace(0, 1, 6))[-1]\n",
    "\n",
    "# Main 2D density plot\n",
    "ax_main = fig.add_subplot(gs[1:4, 0:3])\n",
    "\n",
    "# Marginal distribution for x (top)\n",
    "ax_xhist = fig.add_subplot(gs[0, 0:3], sharex=ax_main)\n",
    "\n",
    "# Marginal distribution for y (right)\n",
    "ax_yhist = fig.add_subplot(gs[1:4, 3], sharey=ax_main)\n",
    "\n",
    "# Plot the 2D histogram (density plot) in the main panel\n",
    "# hb = ax_main.hexbin(x, y, gridsize=50, cmap='Blues')\n",
    "hb = ax_main.hist2d(x, y, bins=(x_bins, y_bins), cmap='viridis', density=True, weights=w, norm=LogNorm() if do_log else None)\n",
    "\n",
    "# Add color bar\n",
    "# cb = fig.colorbar(hb, ax=ax_main)\n",
    "# cb.set_label('Counts')\n",
    "\n",
    "# Plot marginal histograms\n",
    "ax_xhist.hist(x, bins=x_bins, color=marginal_line_color, density=True, histtype='stepfilled', weights=w, edgecolor='black', alpha=0.75)\n",
    "ax_yhist.hist(y, bins=y_bins, orientation='horizontal', color=marginal_line_color, density=True, histtype='stepfilled', weights=w, edgecolor='black', alpha=0.75)\n",
    "\n",
    "# Hide x labels for the top plot and y labels for the right plot\n",
    "plt.setp(ax_xhist.get_xticklabels(), visible=False)\n",
    "plt.setp(ax_yhist.get_yticklabels(), visible=False)\n",
    "\n",
    "# limits of the marginal histograms\n",
    "ax_xhist.set_ylim(0., 5.)\n",
    "ax_yhist.set_ylim(0., 5.)\n",
    "\n",
    "# number of ticks on the marginal histograms\n",
    "ax_xhist.yaxis.set_major_locator(FixedLocator(np.linspace(0., 5., 3)))\n",
    "ax_yhist.xaxis.set_major_locator(FixedLocator(np.linspace(0., 5., 3)))\n",
    "\n",
    "# Set log scale on marginal histograms\n",
    "# if do_log:\n",
    "#     ax_xhist.set_yscale('log')\n",
    "#     ax_yhist.set_xscale('log')\n",
    "\n",
    "# Set labels\n",
    "ax_main.set_xlabel('Hit E / particle dep. E')\n",
    "ax_main.set_ylabel('Hit E / topocluster dep. E')\n",
    "\n",
    "# make sure the x and y axis of the main plot are the same\n",
    "ax_main.set_xlim(0., 1.)\n",
    "ax_main.set_ylim(0., 1.)\n",
    "# also the ticks\n",
    "ax_main.xaxis.set_major_locator(FixedLocator(np.linspace(0., 1., 6)))\n",
    "ax_main.yaxis.set_major_locator(FixedLocator(np.linspace(0., 1., 6)))\n",
    "\n",
    "# Adjust layout to remove gaps\n",
    "plt.subplots_adjust(hspace=0.1, wspace=0.1)\n",
    "\n",
    "# remove the top and right lines on the outer axes\n",
    "ax_xhist.spines['top'].set_visible(False)\n",
    "ax_yhist.spines['right'].set_visible(False)\n",
    "\n",
    "# make sure ticks are visible on the outer axes\n",
    "ax_xhist.tick_params(axis='x', direction='in')\n",
    "ax_yhist.tick_params(axis='y', direction='in')\n",
    "ax_xhist.tick_params(bottom=False, top=False, left=True, right=True)\n",
    "ax_xhist.tick_params(labelbottom=False, labeltop=False, labelleft=True, labelright=False)\n",
    "ax_yhist.tick_params(bottom=True, top=True, left=False, right=False)\n",
    "ax_yhist.tick_params(labelbottom=True, labeltop=False, labelleft=False, labelright=False)\n",
    "\n",
    "# but make the first tick label invisible (keeping the tick)\n",
    "ax_xhist.get_yticklabels()[0].set_visible(False)\n",
    "ax_yhist.get_xticklabels()[0].set_visible(False)\n",
    "\n",
    "# Show plot\n",
    "plt.show()"
   ]
  },
  {
   "cell_type": "code",
   "execution_count": 115,
   "metadata": {},
   "outputs": [],
   "source": [
    "fig.savefig('E_fraction_2D_distribution.png', dpi=300, bbox_inches='tight')"
   ]
  },
  {
   "cell_type": "markdown",
   "metadata": {},
   "source": [
    "# Number of fractional hits"
   ]
  },
  {
   "cell_type": "code",
   "execution_count": 13,
   "metadata": {},
   "outputs": [
    {
     "data": {
      "application/vnd.jupyter.widget-view+json": {
       "model_id": "44c548e02e874ddc82edbf07c5486173",
       "version_major": 2,
       "version_minor": 0
      },
      "text/plain": [
       "  0%|          | 0/6 [00:00<?, ?it/s]"
      ]
     },
     "metadata": {},
     "output_type": "display_data"
    },
    {
     "data": {
      "application/vnd.jupyter.widget-view+json": {
       "model_id": "4c5d44ebb38f4abab377f4426f19aa66",
       "version_major": 2,
       "version_minor": 0
      },
      "text/plain": [
       "  0%|          | 0/35799 [00:00<?, ?it/s]"
      ]
     },
     "metadata": {},
     "output_type": "display_data"
    },
    {
     "data": {
      "application/vnd.jupyter.widget-view+json": {
       "model_id": "2a8702549a664a1389f485fb92bf4f4e",
       "version_major": 2,
       "version_minor": 0
      },
      "text/plain": [
       "  0%|          | 0/35799 [00:00<?, ?it/s]"
      ]
     },
     "metadata": {},
     "output_type": "display_data"
    },
    {
     "data": {
      "application/vnd.jupyter.widget-view+json": {
       "model_id": "02249e39b6ba4e798b722404329703a8",
       "version_major": 2,
       "version_minor": 0
      },
      "text/plain": [
       "  0%|          | 0/35799 [00:00<?, ?it/s]"
      ]
     },
     "metadata": {},
     "output_type": "display_data"
    },
    {
     "data": {
      "application/vnd.jupyter.widget-view+json": {
       "model_id": "c7f4d083ed6747d0be586e5dba7b8ad8",
       "version_major": 2,
       "version_minor": 0
      },
      "text/plain": [
       "  0%|          | 0/35799 [00:00<?, ?it/s]"
      ]
     },
     "metadata": {},
     "output_type": "display_data"
    },
    {
     "data": {
      "application/vnd.jupyter.widget-view+json": {
       "model_id": "a4d20129ecfe4fc4a63636eb271c17bb",
       "version_major": 2,
       "version_minor": 0
      },
      "text/plain": [
       "  0%|          | 0/35799 [00:00<?, ?it/s]"
      ]
     },
     "metadata": {},
     "output_type": "display_data"
    },
    {
     "data": {
      "application/vnd.jupyter.widget-view+json": {
       "model_id": "8c9d5af3bb1c42c0a55d6cbb0d442f60",
       "version_major": 2,
       "version_minor": 0
      },
      "text/plain": [
       "  0%|          | 0/35799 [00:00<?, ?it/s]"
      ]
     },
     "metadata": {},
     "output_type": "display_data"
    },
    {
     "data": {
      "application/vnd.jupyter.widget-view+json": {
       "model_id": "c6c7fe5493b0437e9c2dc6f864de1863",
       "version_major": 2,
       "version_minor": 0
      },
      "text/plain": [
       "  0%|          | 0/35799 [00:00<?, ?it/s]"
      ]
     },
     "metadata": {},
     "output_type": "display_data"
    },
    {
     "data": {
      "application/vnd.jupyter.widget-view+json": {
       "model_id": "22bbcf8435e8409ba1fe33040602dc27",
       "version_major": 2,
       "version_minor": 0
      },
      "text/plain": [
       "  0%|          | 0/35799 [00:00<?, ?it/s]"
      ]
     },
     "metadata": {},
     "output_type": "display_data"
    },
    {
     "data": {
      "application/vnd.jupyter.widget-view+json": {
       "model_id": "bf8a7bd35ff44b38b665a81613db18c7",
       "version_major": 2,
       "version_minor": 0
      },
      "text/plain": [
       "  0%|          | 0/35799 [00:00<?, ?it/s]"
      ]
     },
     "metadata": {},
     "output_type": "display_data"
    },
    {
     "data": {
      "application/vnd.jupyter.widget-view+json": {
       "model_id": "4a38da74dfdd4f908e0ff1988cd57333",
       "version_major": 2,
       "version_minor": 0
      },
      "text/plain": [
       "  0%|          | 0/35799 [00:00<?, ?it/s]"
      ]
     },
     "metadata": {},
     "output_type": "display_data"
    },
    {
     "data": {
      "application/vnd.jupyter.widget-view+json": {
       "model_id": "db0bb0067786495fac13c0d2f95b99e2",
       "version_major": 2,
       "version_minor": 0
      },
      "text/plain": [
       "  0%|          | 0/35799 [00:00<?, ?it/s]"
      ]
     },
     "metadata": {},
     "output_type": "display_data"
    },
    {
     "data": {
      "application/vnd.jupyter.widget-view+json": {
       "model_id": "72d63d43d74b4e7abc3374c414893b4d",
       "version_major": 2,
       "version_minor": 0
      },
      "text/plain": [
       "  0%|          | 0/35799 [00:00<?, ?it/s]"
      ]
     },
     "metadata": {},
     "output_type": "display_data"
    }
   ],
   "source": [
    "fractions = [0.0, 0.025, 0.05, 0.1, 0.2, 0.4, 1.0]\n",
    "topo_n_hits_dict = {frac: [] for frac in fractions}\n",
    "particle_n_hits_dict = {frac: [] for frac in fractions}\n",
    "\n",
    "for i, frac in tqdm(enumerate(fractions[:-1]), total=len(fractions)-1):\n",
    "    for topo_fractional_hits_ev in tqdm(topo_fractional_hits, total=len(topo_fractional_hits)):\n",
    "        topo_n_hits_dict[frac].append(np.array([( (hits > frac) & (hits <= fractions[i+1]) ).sum() for hits in topo_fractional_hits_ev], dtype=int))\n",
    "\n",
    "    for particle_fractional_hits_ev in tqdm(particle_fractional_hits, total=len(particle_fractional_hits)):\n",
    "        particle_n_hits_dict[frac].append(np.array([( (hits > frac) & (hits <= fractions[i+1]) ).sum() for hits in particle_fractional_hits_ev], dtype=int))\n",
    "\n",
    "    topo_n_hits_dict[frac] = np.array(topo_n_hits_dict[frac], dtype=object)\n",
    "\n",
    "topo_n_hits_dict = {frac: np.array(topo_n_hits_dict[frac], dtype=object) for frac in fractions}\n",
    "particle_n_hits_dict = {frac: np.array(particle_n_hits_dict[frac], dtype=object) for frac in fractions}"
   ]
  },
  {
   "cell_type": "code",
   "execution_count": 14,
   "metadata": {},
   "outputs": [],
   "source": [
    "topo_n_hits_dict_flat = {frac: np.hstack(topo_n_hits_dict[frac].tolist()) for frac in fractions if frac != 1.0}\n",
    "particle_n_hits_dict_flat = {frac: np.hstack(particle_n_hits_dict[frac].tolist()) for frac in fractions if frac != 1.0}"
   ]
  },
  {
   "cell_type": "code",
   "execution_count": 15,
   "metadata": {},
   "outputs": [],
   "source": [
    "topo_n_hits_stacked = np.vstack([topo_n_hits_dict_flat[frac] for frac in fractions[::-1] if frac != 1.0]).T\n",
    "particle_n_hits_stacked = np.vstack([particle_n_hits_dict_flat[frac] for frac in fractions[::-1] if frac != 1.0]).T\n",
    "\n",
    "topo_n_hits_total = topo_n_hits_stacked.flatten()\n",
    "particle_n_hits_total = particle_n_hits_stacked.flatten()"
   ]
  },
  {
   "cell_type": "code",
   "execution_count": 63,
   "metadata": {},
   "outputs": [
    {
     "data": {
      "image/png": "[encoded data removed]",
      "text/plain": [
       "<Figure size 900x450 with 2 Axes>"
      ]
     },
     "metadata": {},
     "output_type": "display_data"
    }
   ],
   "source": [
    "frac_bins = [f'{100*frac:.0f}-{100*frac2:.0f}%' for frac, frac2 in zip(fractions[:-1], fractions[1:])]\n",
    "frac_bins[0] = r'$<$'     + f'{100*fractions[1]:.1f}%'\n",
    "frac_bins[1] = f'{100*fractions[1]:.1f}-{100*fractions[2]:.0f}%'\n",
    "frac_bins[-1] = r'$\\geq$' + f'{100*fractions[-2]:.0f}%'\n",
    "\n",
    "# stacked histograms of the number of hits per topo and per particle for different energy fractions\n",
    "\n",
    "fig, ax = plt.subplots(1, 2, figsize=(6, 3), dpi=150, sharey=True)\n",
    "\n",
    "N_max = 15\n",
    "bin_width = 1\n",
    "bins = np.linspace(-0.5, N_max + 0.5, (N_max + 2)) * bin_width\n",
    "bins = bins[bins<=N_max+bin_width]\n",
    "\n",
    "colors = plt.cm.viridis(np.linspace(0, 1, len(frac_bins)))\n",
    "\n",
    "normalize = True\n",
    "do_log = True\n",
    "\n",
    "# ax[0].hist(topo_n_hits_total, bins=bins, label='Total', density=normalize, color='black', histtype='step')\n",
    "ax[0].hist(topo_n_hits_stacked, bins=bins, stacked=True, label=frac_bins[::-1], density=normalize, color=colors, alpha=0.75, edgecolor='black', histtype='stepfilled',linewidth=0.75)\n",
    "if normalize:\n",
    "    ax[0].set_ylabel('a.u.')\n",
    "else:\n",
    "    ax[0].set_ylabel('N')\n",
    "ax[0].set_xlabel('N particles per topocluster')\n",
    "\n",
    "# ax[1].hist(particle_n_hits_total, bins=bins, label='Total', density=normalize, color='black', histtype='step')\n",
    "ax[1].hist(particle_n_hits_stacked, bins=bins, stacked=True, label=frac_bins[::-1], density=normalize, color=colors, alpha=0.75, edgecolor='black', histtype='stepfilled',linewidth=0.75)\n",
    "# ax[1].set_title('Particle')\n",
    "ax[1].set_xlabel('N topoclusters per particle')\n",
    "\n",
    "### legend to the right of the plot\n",
    "# ax[1].legend(loc='center left', bbox_to_anchor=(1, 0.5), title='Energy fraction')\n",
    "# ax[0].legend(loc='upper right', title='Dep. E fraction', ncol=2,  fontsize='small', title_fontsize='medium', labelspacing=0.05, columnspacing=0.2)\n",
    "\n",
    "# legend with entries in reverse order\n",
    "handles, labels = plt.gca().get_legend_handles_labels()\n",
    "ax[0].legend(handles[::-1], labels[::-1], loc='upper right', title='Dep. E fraction', labelspacing=0.07, fontsize=9)\n",
    "\n",
    "if do_log:\n",
    "    ax[0].set_yscale('log')\n",
    "    ax[1].set_yscale('log')\n",
    "    if normalize:\n",
    "        ax[0].set_ylim(1e-7, 1.5e0)\n",
    "    else:\n",
    "        ax[0].set_ylim(0.5, 5e7)\n",
    "\n",
    "plt.tight_layout()\n",
    "\n",
    "plt.show()\n"
   ]
  },
  {
   "cell_type": "code",
   "execution_count": 64,
   "metadata": {},
   "outputs": [],
   "source": [
    "fig.savefig('N_per_distributions.png', dpi=300, bbox_inches='tight')"
   ]
  },
  {
   "attachments": {},
   "cell_type": "markdown",
   "metadata": {},
   "source": [
    "# Incidence matrix"
   ]
  },
  {
   "cell_type": "code",
   "execution_count": 140,
   "metadata": {},
   "outputs": [],
   "source": [
    "def plot_inc_matrix(topo2particle_topo_idx, topo2particle_particle_idx, topo2particle_e, dual = False):\n",
    "\n",
    "    num_particles = topo2particle_particle_idx.max() + 1\n",
    "    num_topoclusters = topo2particle_topo_idx.max() + 1\n",
    "\n",
    "    w = num_particles\n",
    "    h = num_topoclusters\n",
    "\n",
    "    fig = plt.figure(figsize=(3,3), dpi=150)\n",
    "\n",
    "    ax = fig.add_subplot(1,1,1)\n",
    "    ax.set_aspect('equal')\n",
    "\n",
    "    incidence_matrix = np.zeros((num_topoclusters, num_particles))\n",
    "\n",
    "    for cluster_idx, part_idx, e in zip(topo2particle_topo_idx, topo2particle_particle_idx, topo2particle_e):\n",
    "        incidence_matrix[cluster_idx, part_idx] = e\n",
    "\n",
    "    if dual:\n",
    "        incidence_matrix = incidence_matrix / incidence_matrix.sum(axis=0).reshape(1,-1)\n",
    "    else:\n",
    "        incidence_matrix = incidence_matrix / incidence_matrix.sum(axis=1).reshape(-1,1)\n",
    "    # incidence_matrix = incidence_matrix != 0\n",
    "\n",
    "    # plot the matrix in a grid\n",
    "    im = ax.imshow(incidence_matrix, cmap='viridis_r', interpolation='none', aspect='auto')\n",
    "    ax.set_xlabel('Particle')\n",
    "    ax.set_ylabel('Topocluster')\n",
    "    # make values below 0.01 white\n",
    "    im.cmap.set_under('white')\n",
    "    im.set_clim(0.01, 1)\n",
    "\n",
    "    # add colorbar\n",
    "    fig.colorbar(im, label = 'Topocluster dep. E fraction')\n",
    "\n",
    "    tick_positions = np.arange(num_topoclusters + 2)-0.5\n",
    "    ax.yaxis.set_minor_locator(FixedLocator(tick_positions))\n",
    "    ax.grid(which='minor', color='k', linestyle='-', lw=0.1)\n",
    "\n",
    "    tick_positions = np.arange(num_particles+2)-0.5\n",
    "    ax.xaxis.set_minor_locator(FixedLocator(tick_positions))\n",
    "    ax.grid(which='minor', color='k', linestyle='-', lw=0.1)\n",
    "    ax.tick_params(which='minor', size=0)\n",
    "\n",
    "    return fig, incidence_matrix"
   ]
  },
  {
   "cell_type": "code",
   "execution_count": 141,
   "metadata": {},
   "outputs": [
    {
     "data": {
      "image/png": "[encoded data removed]",
      "text/plain": [
       "<Figure size 450x450 with 2 Axes>"
      ]
     },
     "metadata": {},
     "output_type": "display_data"
    }
   ],
   "source": [
    "ev = 11\n",
    "f, I = plot_inc_matrix(topo2particle_topo_idxs[ev], topo2particle_particle_idxs[ev], topo2particle_energies[ev])"
   ]
  },
  {
   "cell_type": "code",
   "execution_count": 142,
   "metadata": {},
   "outputs": [],
   "source": [
    "# save the figure\n",
    "f.savefig(f'incidence_matrix_ev{ev}.png', dpi=300, bbox_inches='tight')"
   ]
  },
  {
   "cell_type": "code",
   "execution_count": null,
   "metadata": {},
   "outputs": [],
   "source": []
  }
 ],
 "metadata": {
  "kernelspec": {
   "display_name": "sup_res",
   "language": "python",
   "name": "python3"
  },
  "language_info": {
   "codemirror_mode": {
    "name": "ipython",
    "version": 3
   },
   "file_extension": ".py",
   "mimetype": "text/x-python",
   "name": "python",
   "nbconvert_exporter": "python",
   "pygments_lexer": "ipython3",
   "version": "3.11.9"
  },
  "orig_nbformat": 4,
  "vscode": {
   "interpreter": {
    "hash": "0a441a5a7170b5767766154d7d0e4bd45d8ba5723808a34a685676bcdbed3c3d"
   }
  }
 },
 "nbformat": 4,
 "nbformat_minor": 2
}
