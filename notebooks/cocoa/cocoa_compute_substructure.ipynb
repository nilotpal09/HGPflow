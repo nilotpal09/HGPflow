{
 "cells": [
  {
   "cell_type": "code",
   "execution_count": 1,
   "metadata": {},
   "outputs": [],
   "source": [
    "%load_ext autoreload\n",
    "%autoreload 2\n",
    "\n",
    "import sys, os\n",
    "sys.path.append(os.path.dirname(os.path.dirname(os.getcwd())))"
   ]
  },
  {
   "cell_type": "code",
   "execution_count": 4,
   "metadata": {},
   "outputs": [],
   "source": [
    "import numpy as np\n",
    "\n",
    "import hgpflow_v2.performance # don't know why this is needed, but it is\n",
    "from hgpflow_v2.performance.performance import PerformanceCOCOA\n",
    "from hgpflow_v2.performance.substructure_helper import compute_substructure_leading"
   ]
  },
  {
   "cell_type": "code",
   "execution_count": 5,
   "metadata": {},
   "outputs": [],
   "source": [
    "IND_THRESHOLD = 0.5"
   ]
  },
  {
   "cell_type": "code",
   "execution_count": null,
   "metadata": {},
   "outputs": [],
   "source": [
    "truth_path = 'path to zhbb_boosted.root'\n",
    "pred_path = 'path to HGPflow prediction zhbb_boosted.root'\n",
    "mlpf_path = 'path to MLPF prediction zhbb_boosted.root'\n",
    "perf_obj = PerformanceCOCOA(truth_path, pred_path, ind_threshold=IND_THRESHOLD, topo=False, pred_path_mlpf=mlpf_path)"
   ]
  },
  {
   "cell_type": "code",
   "execution_count": null,
   "metadata": {},
   "outputs": [],
   "source": [
    "perf_obj.compute_jets(radius=1.0, n_procs=30, store_constituent_idxs=True)"
   ]
  },
  {
   "cell_type": "markdown",
   "metadata": {},
   "source": [
    "#### Compute leading-jet substructures"
   ]
  },
  {
   "cell_type": "code",
   "execution_count": 26,
   "metadata": {},
   "outputs": [
    {
     "name": "stdout",
     "output_type": "stream",
     "text": [
      "Computing truth substructure...\n"
     ]
    },
    {
     "name": "stdout",
     "output_type": "stream",
     "text": [
      "Computing ppflow substructure...\n",
      "Computing hgpflow substructure...\n",
      "Computing mlpf substructure...\n"
     ]
    }
   ],
   "source": [
    "n_procs = 30\n",
    "\n",
    "print('Computing truth substructure...')\n",
    "truth_substructure = compute_substructure_leading(\n",
    "    perf_obj.truth_dict['particle_pt'], perf_obj.truth_dict['particle_eta'], perf_obj.truth_dict['particle_phi'],\n",
    "    perf_obj.truth_dict['truth_jets'], n_procs=n_procs, event_number=perf_obj.truth_dict['event_number'])\n",
    "\n",
    "print('Computing ppflow substructure...')\n",
    "ppflow_substructure = compute_substructure_leading(\n",
    "    perf_obj.truth_dict['pflow_pt'], perf_obj.truth_dict['pflow_eta'], perf_obj.truth_dict['pflow_phi'],\n",
    "    perf_obj.truth_dict['ppflow_jets'], n_procs=n_procs, event_number=perf_obj.truth_dict['event_number'])\n",
    "\n",
    "print('Computing hgpflow substructure...')\n",
    "hgpflow_substructure = compute_substructure_leading(\n",
    "    perf_obj.hgpflow_dict['hgpflow_pt'], perf_obj.hgpflow_dict['hgpflow_eta'], perf_obj.hgpflow_dict['hgpflow_phi'],\n",
    "    perf_obj.hgpflow_dict['jets'], n_procs=n_procs, event_number=perf_obj.hgpflow_dict['event_number'])\n",
    "\n",
    "print('Computing mlpf substructure...')\n",
    "mlpf_substructure = compute_substructure_leading(\n",
    "    perf_obj.mlpf_dict['pred_pt'], perf_obj.mlpf_dict['pred_eta'], perf_obj.mlpf_dict['pred_phi'],\n",
    "    perf_obj.mlpf_dict['jets'], n_procs=n_procs, event_number=perf_obj.mlpf_dict['event_number'])"
   ]
  },
  {
   "cell_type": "code",
   "execution_count": 14,
   "metadata": {},
   "outputs": [],
   "source": [
    "_dict = {\n",
    "    'truth_d2': truth_substructure[0],\n",
    "    'truth_c2': truth_substructure[1],\n",
    "    'truth_c3': truth_substructure[2],\n",
    "    'truth_event_number': truth_substructure[3],\n",
    "\n",
    "    'ppflow_d2': ppflow_substructure[0],\n",
    "    'ppflow_c2': ppflow_substructure[1],\n",
    "    'ppflow_c3': ppflow_substructure[2],\n",
    "    'ppflow_event_number': ppflow_substructure[3],\n",
    "\n",
    "    'mlpf_d2' : mlpf_substructure[0],\n",
    "    'mlpf_c2' : mlpf_substructure[1],\n",
    "    'mlpf_c3' : mlpf_substructure[2],\n",
    "    'mlpf_event_number': mlpf_substructure[3],\n",
    "\n",
    "    'hgpflow_d2': hgpflow_substructure[0],\n",
    "    'hgpflow_c2': hgpflow_substructure[1],\n",
    "    'hgpflow_c3': hgpflow_substructure[2],\n",
    "    'hgpflow_event_number': hgpflow_substructure[3],\n",
    "}\n",
    "\n",
    "\n",
    "fp_out = pred_path.replace('.root', '_substructure.npz')\n",
    "np.savez(fp_out, **_dict)"
   ]
  }
 ],
 "metadata": {
  "kernelspec": {
   "display_name": "Python 3",
   "language": "python",
   "name": "python3"
  },
  "language_info": {
   "codemirror_mode": {
    "name": "ipython",
    "version": 3
   },
   "file_extension": ".py",
   "mimetype": "text/x-python",
   "name": "python",
   "nbconvert_exporter": "python",
   "pygments_lexer": "ipython3",
   "version": "3.11.9"
  }
 },
 "nbformat": 4,
 "nbformat_minor": 2
}
